{
 "cells": [
  {
   "cell_type": "code",
   "execution_count": 14,
   "id": "be79b684",
   "metadata": {},
   "outputs": [],
   "source": [
    "# Import dependencies\n",
    "import torch\n",
    "import torchvision\n",
    "import torch.nn as nn\n",
    "import torchvision.models\n",
    "from torchvision import datasets, transforms\n",
    "from torchvision.models import resnet18, ResNet18_Weights #pretrained model\n",
    "\n",
    "val_transforms = transforms.Compose([\n",
    "    transforms.Resize((224, 224)),\n",
    "    transforms.CenterCrop(224),\n",
    "    transforms.ToTensor(),\n",
    "    transforms.Normalize(mean=[0.485, 0.456, 0.406], std=[0.229, 0.224, 0.225]),\n",
    "])\n",
    "\n",
    "# Define Animal Classes\n",
    "animal_classes = ['cat', 'cow', 'coyote', 'deer', 'dog', 'donkey', 'fox', 'horse', 'owl', 'pig', 'possum', 'raccoon', 'sheep', 'wolf']\n",
    "\n",
    "# Define predator mapping (0: nonpredator, 1: predator, 2: both)\n",
    "predator_mapping = {'cat': 2, 'cow': 0, 'coyote': 1, 'deer': 2, 'dog': 2, 'donkey': 0, 'fox': 1, 'horse': 0, 'owl': 1, 'pig': 0, 'possum': 1,\n",
    "                    'raccoon': 1, 'sheep': 0, 'wolf': 1}\n",
    "\n",
    "predator_classes = ['nonpredator', 'predator', 'both']\n",
    "\n",
    "#load the model\n",
    "model = torch.load('animal_classifier_model.pt')\n",
    "\n",
    "\n",
    "# device = torch.device('cuda' if torch.cuda.is_available() else 'cpu')\n",
    "\n",
    "# Function to classify an image and return the animal and predator class\n",
    "def classify_image(image):\n",
    "    model.eval()\n",
    "    with torch.no_grad():\n",
    "        image = val_transforms(image).unsqueeze(0)\n",
    "        outputs = model(image)\n",
    "        _, predicted = torch.max(outputs, 1)\n",
    "        animal_class = animal_classes[predicted.item()]\n",
    "        predator_class = predator_classes[predator_mapping[animal_class]]\n",
    "        return animal_class, predator_class"
   ]
  },
  {
   "cell_type": "code",
   "execution_count": 18,
   "id": "f1c3626d",
   "metadata": {},
   "outputs": [
    {
     "name": "stdout",
     "output_type": "stream",
     "text": [
      "Running on local URL:  http://127.0.0.1:7865\n",
      "Running on public URL: https://4a06fed12aed765422.gradio.live\n",
      "\n",
      "This share link expires in 72 hours. For free permanent hosting and GPU upgrades, run `gradio deploy` from Terminal to deploy to Spaces (https://huggingface.co/spaces)\n"
     ]
    },
    {
     "data": {
      "text/html": [
       "<div><iframe src=\"https://4a06fed12aed765422.gradio.live\" width=\"100%\" height=\"500\" allow=\"autoplay; camera; microphone; clipboard-read; clipboard-write;\" frameborder=\"0\" allowfullscreen></iframe></div>"
      ],
      "text/plain": [
       "<IPython.core.display.HTML object>"
      ]
     },
     "metadata": {},
     "output_type": "display_data"
    },
    {
     "data": {
      "text/plain": []
     },
     "execution_count": 18,
     "metadata": {},
     "output_type": "execute_result"
    }
   ],
   "source": [
    "import gradio as gr\n",
    "from PIL import Image\n",
    "\n",
    "# Set up the Gradio interface\n",
    "def predict(image):\n",
    "    animal_class, predator_class = classify_image(image)\n",
    "    return f\"Animal: {animal_class}, Category: {predator_class}\"\n",
    "\n",
    "interface = gr.Interface(fn=predict, inputs=gr.Image(type=\"pil\"), outputs=gr.Text(), title=\"Animal Classifier\")\n",
    "interface.launch(share=True)"
   ]
  },
  {
   "cell_type": "code",
   "execution_count": null,
   "id": "c8cf725d",
   "metadata": {},
   "outputs": [],
   "source": []
  }
 ],
 "metadata": {
  "kernelspec": {
   "display_name": "Python 3 (ipykernel)",
   "language": "python",
   "name": "python3"
  },
  "language_info": {
   "codemirror_mode": {
    "name": "ipython",
    "version": 3
   },
   "file_extension": ".py",
   "mimetype": "text/x-python",
   "name": "python",
   "nbconvert_exporter": "python",
   "pygments_lexer": "ipython3",
   "version": "3.10.13"
  }
 },
 "nbformat": 4,
 "nbformat_minor": 5
}
